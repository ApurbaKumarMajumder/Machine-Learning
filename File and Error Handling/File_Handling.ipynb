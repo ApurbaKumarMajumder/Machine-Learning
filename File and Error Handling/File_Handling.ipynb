{
 "cells": [
  {
   "cell_type": "markdown",
   "metadata": {},
   "source": [
    "## File Access Modes"
   ]
  },
  {
   "cell_type": "markdown",
   "metadata": {},
   "source": [
    "Access modes govern the type of operations possible in the opened files. It refers to how the file will be used once its opened. This modes also define the location of the File Handle in the file. File Handle is like a cursor, which defines from where the data has to be read or written in the file.\n",
    "\n",
    "There are 6 access modes in python."
   ]
  },
  {
   "cell_type": "markdown",
   "metadata": {},
   "source": [
    "* <b>Read Only('r')</b> : Open text files for reading only. The handle is positioned at the beginning of the file. If the file doesnot exists, raises I/O error. THis is also the default mode in which the files are opened.\n",
    "\n",
    "* <b>Read and Write('r+')</b> : Open the file for reading and writing. The handle is positioned at the beginning of the file. Raises I/O error if the file doesnot exists.\n",
    "\n",
    "* <b>Write Only('w')</b> : Open the file for writing. For existing files, the data is truncated and over_written. The handle is positioned at the beginning of the file. Creates the file if the file doesnot exists.\n",
    "\n",
    "* <b>Write and Read('w+')</b> : Open the file for both reading and writing. For existing files, data is truncated and over-written. The handle is positioned at the beginning of the file.\n",
    "\n",
    "* <b>Append Only('a')</b> : Open the file for writing. The file is created if it does not exists. The handle is positioned at the end of the file. The data being written will be inserted at the end, after the existing data. \n",
    "\n",
    "* <b>Append and Read('a+')</b> : Open the file for reading and writing. The file is created if it already doesnot exists. The handle is positioned at the end of the file. The data being written will be inserted at the end, after the existing data."
   ]
  },
  {
   "cell_type": "markdown",
   "metadata": {},
   "source": []
  }
 ],
 "metadata": {
  "language_info": {
   "name": "python"
  },
  "orig_nbformat": 4
 },
 "nbformat": 4,
 "nbformat_minor": 2
}
