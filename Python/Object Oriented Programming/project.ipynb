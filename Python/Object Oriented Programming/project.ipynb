{
 "cells": [
  {
   "cell_type": "code",
   "execution_count": 1,
   "metadata": {},
   "outputs": [
    {
     "name": "stdout",
     "output_type": "stream",
     "text": [
      "Collecting nlpcloud\n",
      "  Downloading nlpcloud-1.0.38-py3-none-any.whl (4.5 kB)\n",
      "Requirement already satisfied: requests in c:\\users\\9851a\\anaconda3\\lib\\site-packages (from nlpcloud) (2.28.1)\n",
      "Requirement already satisfied: idna<4,>=2.5 in c:\\users\\9851a\\anaconda3\\lib\\site-packages (from requests->nlpcloud) (3.3)\n",
      "Requirement already satisfied: urllib3<1.27,>=1.21.1 in c:\\users\\9851a\\anaconda3\\lib\\site-packages (from requests->nlpcloud) (1.26.11)\n",
      "Requirement already satisfied: certifi>=2017.4.17 in c:\\users\\9851a\\anaconda3\\lib\\site-packages (from requests->nlpcloud) (2022.9.14)\n",
      "Requirement already satisfied: charset-normalizer<3,>=2 in c:\\users\\9851a\\anaconda3\\lib\\site-packages (from requests->nlpcloud) (2.0.4)\n",
      "Installing collected packages: nlpcloud\n",
      "Successfully installed nlpcloud-1.0.38\n"
     ]
    }
   ],
   "source": [
    "!pip install nlpcloud"
   ]
  },
  {
   "cell_type": "code",
   "execution_count": null,
   "metadata": {},
   "outputs": [],
   "source": [
    "class NLPApp:\n",
    "\n",
    "    def __init__(self):\n",
    "\n",
    "        self.__database = {}\n",
    "        self.__first_menu()\n",
    "    \n",
    "    def __first_menu(self):\n",
    "\n",
    "        first_input = input(\"\"\"\n",
    "        Hi! how you would like to proceed?\n",
    "        1. Not a member? Register\n",
    "        2. Already a member? Login\n",
    "        3. gL\n",
    "        \"\"\")\n",
    "\n",
    "        if first_input == '1':\n",
    "            self.__register()\n",
    "        elif first_input == '2':\n",
    "            self.__login()\n",
    "        else:\n",
    "            exit()\n",
    "\n",
    "    def __register(self):\n",
    "        print('register')\n",
    "\n",
    "    def __login(self):\n",
    "        print('login')\n",
    "\n",
    "\n",
    "\n",
    "\n"
   ]
  }
 ],
 "metadata": {
  "kernelspec": {
   "display_name": "base",
   "language": "python",
   "name": "python3"
  },
  "language_info": {
   "codemirror_mode": {
    "name": "ipython",
    "version": 3
   },
   "file_extension": ".py",
   "mimetype": "text/x-python",
   "name": "python",
   "nbconvert_exporter": "python",
   "pygments_lexer": "ipython3",
   "version": "3.9.13 (main, Aug 25 2022, 23:51:50) [MSC v.1916 64 bit (AMD64)]"
  },
  "orig_nbformat": 4,
  "vscode": {
   "interpreter": {
    "hash": "552fbe716801c828bf2337c00c8e68d3f7e2873a52bf4814b48dcd20016ed334"
   }
  }
 },
 "nbformat": 4,
 "nbformat_minor": 2
}
