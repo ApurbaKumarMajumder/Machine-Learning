{
 "cells": [
  {
   "cell_type": "code",
   "execution_count": 2,
   "metadata": {},
   "outputs": [
    {
     "name": "stdout",
     "output_type": "stream",
     "text": [
      "Requirement already satisfied: nlpcloud in c:\\users\\9851a\\anaconda3\\lib\\site-packages (1.0.38)\n",
      "Requirement already satisfied: requests in c:\\users\\9851a\\anaconda3\\lib\\site-packages (from nlpcloud) (2.28.1)\n",
      "Requirement already satisfied: urllib3<1.27,>=1.21.1 in c:\\users\\9851a\\anaconda3\\lib\\site-packages (from requests->nlpcloud) (1.26.11)\n",
      "Requirement already satisfied: charset-normalizer<3,>=2 in c:\\users\\9851a\\anaconda3\\lib\\site-packages (from requests->nlpcloud) (2.0.4)\n",
      "Requirement already satisfied: certifi>=2017.4.17 in c:\\users\\9851a\\anaconda3\\lib\\site-packages (from requests->nlpcloud) (2022.9.14)\n",
      "Requirement already satisfied: idna<4,>=2.5 in c:\\users\\9851a\\anaconda3\\lib\\site-packages (from requests->nlpcloud) (3.3)\n"
     ]
    }
   ],
   "source": [
    "!pip install nlpcloud"
   ]
  },
  {
   "cell_type": "code",
   "execution_count": 5,
   "metadata": {},
   "outputs": [],
   "source": [
    "class NLPApp:\n",
    "\n",
    "    def __init__(self):\n",
    "\n",
    "        self.__database = {}\n",
    "        self.__first_menu()\n",
    "    \n",
    "    def __first_menu(self):\n",
    "\n",
    "        first_input = input(\"\"\"\n",
    "        Hi! how you would like to proceed?\n",
    "        1. Not a member? Register\n",
    "        2. Already a member? Login\n",
    "        3. gL\n",
    "        \"\"\")\n",
    "\n",
    "        if first_input == '1':\n",
    "            self.__register()\n",
    "        elif first_input == '2':\n",
    "            self.__login()\n",
    "        else:\n",
    "            exit()\n",
    "\n",
    "    def __register(self):\n",
    "        name = input('Enter Name ')\n",
    "        email = input('Enter Email ')\n",
    "        password = input('Enter Password')\n",
    "\n",
    "        if email in database:\n",
    "            print(\"Email already exists\")\n",
    "        else:\n",
    "            self.database[email] = [name, password]\n",
    "            print(\"Registration Successful. Now Login\")\n",
    "            self.__login()\n",
    "\n",
    "    def __login(self):\n",
    "        email = input('Enter Email ')\n",
    "        password = input('Enter Password ')\n",
    "\n",
    "        if email in self.__database:\n",
    "            if self.__database[email][1] == password:\n",
    "                print('Login Successful')\n",
    "                self.__second_menu()\n",
    "            else:\n",
    "                print('Wrong password. Try again')\n",
    "                self.__first_menu()\n",
    "        else:\n",
    "            print('This email is not registered')\n",
    "            self.__first_menu()\n",
    "        \n",
    "    def __sentiment_analysis(self):\n",
    "        para = input('Enter the paragraph ')\n",
    "\n",
    "\n"
   ]
  },
  {
   "cell_type": "code",
   "execution_count": 7,
   "metadata": {},
   "outputs": [
    {
     "ename": "",
     "evalue": "",
     "output_type": "error",
     "traceback": [
      "\u001b[1;31mThe Kernel crashed while executing code in the the current cell or a previous cell. Please review the code in the cell(s) to identify a possible cause of the failure. Click <a href='https://aka.ms/vscodeJupyterKernelCrash'>here</a> for more info. View Jupyter <a href='command:jupyter.viewOutput'>log</a> for further details."
     ]
    }
   ],
   "source": [
    "obj = NLPApp()"
   ]
  }
 ],
 "metadata": {
  "kernelspec": {
   "display_name": "base",
   "language": "python",
   "name": "python3"
  },
  "language_info": {
   "codemirror_mode": {
    "name": "ipython",
    "version": 3
   },
   "file_extension": ".py",
   "mimetype": "text/x-python",
   "name": "python",
   "nbconvert_exporter": "python",
   "pygments_lexer": "ipython3",
   "version": "3.9.13 (main, Aug 25 2022, 23:51:50) [MSC v.1916 64 bit (AMD64)]"
  },
  "orig_nbformat": 4,
  "vscode": {
   "interpreter": {
    "hash": "552fbe716801c828bf2337c00c8e68d3f7e2873a52bf4814b48dcd20016ed334"
   }
  }
 },
 "nbformat": 4,
 "nbformat_minor": 2
}
