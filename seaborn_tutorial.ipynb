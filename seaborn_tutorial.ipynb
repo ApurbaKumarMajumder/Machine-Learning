{
 "cells": [
  {
   "cell_type": "markdown",
   "metadata": {},
   "source": [
    "# Seaborn"
   ]
  },
  {
   "cell_type": "markdown",
   "metadata": {},
   "source": [
    "<b>Seaborn</b> is a python library providing high level API for visualizing the data using Python programming language\n",
    "\n",
    "* It is built on the top of the matplotlib library and also closely integrated to the data structures from pandas."
   ]
  },
  {
   "cell_type": "markdown",
   "metadata": {},
   "source": [
    "### Seaborn Vs Matplotlib\n",
    "\n",
    "* Seaborn is an extension of Matplotlib\n",
    "* Matplotlib is fairly good for easy work and competent for hard work.\n",
    "* Seaborn makes the hard work also simple.\n",
    "* Seaborn is well known to work with dataframes (Pandas & Numpy)"
   ]
  },
  {
   "cell_type": "markdown",
   "metadata": {},
   "source": [
    "### Seaborn Features\n",
    "\n",
    "* Built in themes.\n",
    "* Good for both univariate & bivariate analysis.\n",
    "* Useful for regression and time series data both.\n",
    "* Known to wok with dataframes (Pandas & Numpy)."
   ]
  },
  {
   "cell_type": "markdown",
   "metadata": {},
   "source": []
  }
 ],
 "metadata": {
  "kernelspec": {
   "display_name": "Python 3.9.12 ('base')",
   "language": "python",
   "name": "python3"
  },
  "language_info": {
   "codemirror_mode": {
    "name": "ipython",
    "version": 3
   },
   "file_extension": ".py",
   "mimetype": "text/x-python",
   "name": "python",
   "nbconvert_exporter": "python",
   "pygments_lexer": "ipython3",
   "version": "3.9.12"
  },
  "orig_nbformat": 4,
  "vscode": {
   "interpreter": {
    "hash": "610a6f344c2137faf927ea819c63f6cee33a2c04455044b28099f39fe9722347"
   }
  }
 },
 "nbformat": 4,
 "nbformat_minor": 2
}
