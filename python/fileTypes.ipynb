{
 "cells": [
  {
   "cell_type": "markdown",
   "metadata": {},
   "source": [
    "File Reads:\n",
    "\n",
    "    1. Text -> .txt\n",
    "    2. CSV -> .csv\n",
    "    3. Excel -> .xlsx\n",
    "    4. Docx -> .docx\n",
    "    5. PDF -> .pdf"
   ]
  },
  {
   "cell_type": "markdown",
   "metadata": {},
   "source": [
    "Text:\n",
    "\n",
    "Method 1: Using read_csv()\n",
    "\n",
    "data = pandas.read_csv('filename.txt', sep = ' ', names = ['Column1', 'Column2'])\n",
    "\n",
    "Parameters:\n",
    "\n",
    "* filename.txt: As the name suggests it is the name of the text file from which we want to read data.\n",
    "* sep: It is a separator field in the text file, we use the space character(' ') as the separator.\n",
    "* header: This is an optional field. By default, it will take the first line of the text file as a header. If we use header = None then it will create the header.\n",
    "* names: We can assign column names while importing the text file by using the names argument. "
   ]
  },
  {
   "cell_type": "code",
   "execution_count": null,
   "metadata": {},
   "outputs": [],
   "source": [
    "# importing pandas"
   ]
  }
 ],
 "metadata": {
  "kernelspec": {
   "display_name": "Python 3.9.12 ('base')",
   "language": "python",
   "name": "python3"
  },
  "language_info": {
   "codemirror_mode": {
    "name": "ipython",
    "version": 3
   },
   "file_extension": ".py",
   "mimetype": "text/x-python",
   "name": "python",
   "nbconvert_exporter": "python",
   "pygments_lexer": "ipython3",
   "version": "3.9.12"
  },
  "orig_nbformat": 4,
  "vscode": {
   "interpreter": {
    "hash": "610a6f344c2137faf927ea819c63f6cee33a2c04455044b28099f39fe9722347"
   }
  }
 },
 "nbformat": 4,
 "nbformat_minor": 2
}
