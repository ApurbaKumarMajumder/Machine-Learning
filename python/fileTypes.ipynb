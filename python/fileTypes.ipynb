{
 "cells": [
  {
   "cell_type": "markdown",
   "metadata": {},
   "source": [
    "File Reads:\n",
    "\n",
    "    1. Text -> .txt\n",
    "    2. CSV -> .csv\n",
    "    3. Excel -> .xlsx\n",
    "    4. Docx -> .docx\n",
    "    5. PDF -> .pdf"
   ]
  },
  {
   "cell_type": "markdown",
   "metadata": {},
   "source": [
    "Text:\n",
    "\n",
    "Method 1: Using read_csv()\n",
    "\n",
    "data = pandas.read_csv('filename.txt', sep = ' ', names = ['Column1', 'Column2'])\n",
    "\n",
    "Parameters:\n",
    "\n",
    "* filename.txt: As the name suggests it is the name of the text file from which we want to read data.\n",
    "* sep: It is a separator field in the text file, we use the space character(' ') as the separator.\n",
    "* header: This is an optional field. By default, it will take the first line of the text file as a header. If we use header = None then it will create the header.\n",
    "* names: We can assign column names while importing the text file by using the names argument. "
   ]
  },
  {
   "cell_type": "code",
   "execution_count": 3,
   "metadata": {},
   "outputs": [
    {
     "name": "stdout",
     "output_type": "stream",
     "text": [
      "    Batman  Bowler\n",
      "0    Rohit  Bumrah\n",
      "1    Virat   Siraj\n",
      "2    Rahul  Ashwin\n",
      "3    Dhoni   Shami\n",
      "4  Shreyas  Jadeja\n"
     ]
    }
   ],
   "source": [
    "# importing pandas\n",
    "import pandas as pd\n",
    "\n",
    "# read text file into pandas DataFrames\n",
    "df = pd.read_csv(\"gfg.txt\", sep = ' ')\n",
    "\n",
    "# display DataFrame\n",
    "print(df)"
   ]
  },
  {
   "cell_type": "code",
   "execution_count": 4,
   "metadata": {},
   "outputs": [
    {
     "name": "stdout",
     "output_type": "stream",
     "text": [
      "         0       1\n",
      "0   Batman  Bowler\n",
      "1    Rohit  Bumrah\n",
      "2    Virat   Siraj\n",
      "3    Rahul  Ashwin\n",
      "4    Dhoni   Shami\n",
      "5  Shreyas  Jadeja\n"
     ]
    }
   ],
   "source": [
    "# Note: if we specify ther header to be none then the actual headers will be considered as new elements.\n",
    "\n",
    "# Read text files with Pandas using read_csv()\n",
    "\n",
    "# importing pandas\n",
    "import pandas as pd\n",
    "\n",
    "# read text file into pandas DataFrames and\n",
    "# Create header\n",
    "df = pd.read_csv(\"gfg.txt\", sep = \" \", header = None)\n",
    "\n",
    "# display DataFrames\n",
    "print(df)"
   ]
  },
  {
   "cell_type": "code",
   "execution_count": 5,
   "metadata": {},
   "outputs": [
    {
     "name": "stdout",
     "output_type": "stream",
     "text": [
      "  Players 1 Players 2\n",
      "0    Batman    Bowler\n",
      "1     Rohit    Bumrah\n",
      "2     Virat     Siraj\n",
      "3     Rahul    Ashwin\n",
      "4     Dhoni     Shami\n",
      "5   Shreyas    Jadeja\n"
     ]
    }
   ],
   "source": [
    "# Read text files with Pandas using read_csv()\n",
    "\n",
    "# importing pandas\n",
    "import pandas as pd\n",
    "\n",
    "# read text file into pandas DataFrames and create\n",
    "# header with names\n",
    "df = pd.read_csv(\"gfg.txt\", sep = \" \", header = None, names = [\"Players 1\", \"Players 2\"])\n",
    "\n",
    "# display DataFrames\n",
    "print(df)"
   ]
  },
  {
   "cell_type": "code",
   "execution_count": 6,
   "metadata": {},
   "outputs": [
    {
     "name": "stdout",
     "output_type": "stream",
     "text": [
      "  Players 1 Players 2  Players 3\n",
      "0    Batman    Bowler        NaN\n",
      "1     Rohit    Bumrah        NaN\n",
      "2     Virat     Siraj        NaN\n",
      "3     Rahul    Ashwin        NaN\n",
      "4     Dhoni     Shami        NaN\n",
      "5   Shreyas    Jadeja        NaN\n"
     ]
    }
   ],
   "source": [
    "# Note: If you try to fill the name section for some non existing data then you will get NaN declaration.\n",
    "\n",
    "# Read text files with Pandas using read_csv()\n",
    "\n",
    "# importing pandas\n",
    "import pandas as pd\n",
    "\n",
    "# read text file into pandas DataFrames and create\n",
    "# header with names\n",
    "df = pd.read_csv(\"gfg.txt\", sep = \" \", header = None, names = [\"Players 1\", \"Players 2\", \"Players 3\"])\n",
    "\n",
    "# display DataFrames\n",
    "print(df)"
   ]
  },
  {
   "cell_type": "markdown",
   "metadata": {},
   "source": [
    "Method 2: Using read_table()\n",
    "\n",
    "data = pandas.read_table(\"filename.txt\", delimiter = \" \")"
   ]
  },
  {
   "cell_type": "code",
   "execution_count": 7,
   "metadata": {},
   "outputs": [
    {
     "name": "stdout",
     "output_type": "stream",
     "text": [
      "    Batman  Bowler\n",
      "0    Rohit  Bumrah\n",
      "1    Virat   Siraj\n",
      "2    Rahul  Ashwin\n",
      "3    Dhoni   Shami\n",
      "4  Shreyas  Jadeja\n"
     ]
    }
   ],
   "source": [
    "# Read text files with Pandas using read_table()\n",
    "\n",
    "# importing pandas\n",
    "import pandas as pd\n",
    "\n",
    "# read text file into pandas DataFrames and create\n",
    "# header with names\n",
    "df = pd.read_table(\"gfg.txt\", delimiter = \" \")\n",
    "\n",
    "# display DataFrames\n",
    "print(df)"
   ]
  },
  {
   "cell_type": "markdown",
   "metadata": {},
   "source": [
    "Method 3: Using read_fwf()\n",
    "\n",
    "* The fwf in the read_fwf() function stands for fixed-width lines.\n",
    "\n",
    "data = pandas.read_fwf(\"filename.txt\")"
   ]
  },
  {
   "cell_type": "code",
   "execution_count": 8,
   "metadata": {},
   "outputs": [
    {
     "name": "stdout",
     "output_type": "stream",
     "text": [
      "    Batman Bowler\n",
      "0    Rohit Bumrah\n",
      "1     Virat Siraj\n",
      "2    Rahul Ashwin\n",
      "3     Dhoni Shami\n",
      "4  Shreyas Jadeja\n"
     ]
    }
   ],
   "source": [
    "# Read text files with Pandas using read_fwf()\n",
    "\n",
    "# importing pandas\n",
    "import pandas as pd\n",
    "\n",
    "# read text file into pandas DataFrames and create\n",
    "# header with names\n",
    "df = pd.read_fwf(\"gfg.txt\")\n",
    "\n",
    "# display DataFrames\n",
    "print(df)"
   ]
  },
  {
   "cell_type": "markdown",
   "metadata": {},
   "source": [
    "CSV\n",
    "\n",
    "Method 1 - Using CSV"
   ]
  },
  {
   "cell_type": "code",
   "execution_count": 1,
   "metadata": {},
   "outputs": [
    {
     "name": "stderr",
     "output_type": "stream",
     "text": [
      "ERROR: Could not find a version that satisfies the requirement csv (from versions: none)\n",
      "ERROR: No matching distribution found for csv\n"
     ]
    }
   ],
   "source": [
    "! pip install csv"
   ]
  },
  {
   "cell_type": "code",
   "execution_count": 2,
   "metadata": {},
   "outputs": [
    {
     "name": "stdout",
     "output_type": "stream",
     "text": [
      "['Batman', ' Bowler']\n",
      "[['Rohit', ' Bumrah'], ['Virat', ' Siraj'], ['Rahul', ' Ashwin'], ['Dhoni', ' Shami'], ['Shreyas', ' Jadeja']]\n"
     ]
    }
   ],
   "source": [
    "import csv\n",
    "file = open(\"gfg.csv\")\n",
    "csvreader = csv.reader(file) ## Creating the file object\n",
    "\n",
    "header = next(csvreader) ## reading first line as header\n",
    "print(header)\n",
    "\n",
    "rows = []\n",
    "for row in csvreader:\n",
    "    rows.append(row) ## Adding each row as content\n",
    "\n",
    "print(rows)\n",
    "file.close()"
   ]
  },
  {
   "cell_type": "markdown",
   "metadata": {},
   "source": [
    "Method 2 - Using Readlines"
   ]
  },
  {
   "cell_type": "code",
   "execution_count": 1,
   "metadata": {},
   "outputs": [
    {
     "name": "stdout",
     "output_type": "stream",
     "text": [
      "['Batman, Bowler\\n']\n",
      "['Rohit, Bumrah\\n', 'Virat, Siraj\\n', 'Rahul, Ashwin\\n', 'Dhoni, Shami\\n', 'Shreyas, Jadeja']\n"
     ]
    }
   ],
   "source": [
    "with open('gfg.csv') as file:\n",
    "    content = file.readlines()\n",
    "\n",
    "header = content[:1]\n",
    "rows = content[1:]\n",
    "print(header)\n",
    "print(rows)"
   ]
  },
  {
   "cell_type": "code",
   "execution_count": 2,
   "metadata": {},
   "outputs": [
    {
     "data": {
      "text/plain": [
       "'Batman, Bowler'"
      ]
     },
     "execution_count": 2,
     "metadata": {},
     "output_type": "execute_result"
    }
   ],
   "source": [
    "header[0].strip()"
   ]
  },
  {
   "cell_type": "code",
   "execution_count": 5,
   "metadata": {},
   "outputs": [],
   "source": [
    "for i in range(len(rows)):\n",
    "    rows[i] = rows[i].strip()"
   ]
  },
  {
   "cell_type": "code",
   "execution_count": 6,
   "metadata": {},
   "outputs": [
    {
     "data": {
      "text/plain": [
       "['Rohit, Bumrah',\n",
       " 'Virat, Siraj',\n",
       " 'Rahul, Ashwin',\n",
       " 'Dhoni, Shami',\n",
       " 'Shreyas, Jadeja']"
      ]
     },
     "execution_count": 6,
     "metadata": {},
     "output_type": "execute_result"
    }
   ],
   "source": [
    "rows"
   ]
  },
  {
   "cell_type": "code",
   "execution_count": 8,
   "metadata": {},
   "outputs": [
    {
     "name": "stdout",
     "output_type": "stream",
     "text": [
      "['Batman, Bowler']\n",
      "['Rohit, Bumrah', 'Virat, Siraj', 'Rahul, Ashwin', 'Dhoni, Shami', 'Shreyas, Jadeja']\n"
     ]
    }
   ],
   "source": [
    "# complete code\n",
    "\n",
    "with open('gfg.csv') as file:\n",
    "    content = file.readlines()\n",
    "\n",
    "# convert the header into a list\n",
    "header = [content[:1][0].strip()]\n",
    "rows = content[1:]\n",
    "\n",
    "for i in range(len(rows)):\n",
    "    rows[i] = rows[i].strip()\n",
    "\n",
    "print(header)\n",
    "print(rows)"
   ]
  }
 ],
 "metadata": {
  "kernelspec": {
   "display_name": "Python 3.9.12 ('base')",
   "language": "python",
   "name": "python3"
  },
  "language_info": {
   "codemirror_mode": {
    "name": "ipython",
    "version": 3
   },
   "file_extension": ".py",
   "mimetype": "text/x-python",
   "name": "python",
   "nbconvert_exporter": "python",
   "pygments_lexer": "ipython3",
   "version": "3.9.12"
  },
  "orig_nbformat": 4,
  "vscode": {
   "interpreter": {
    "hash": "610a6f344c2137faf927ea819c63f6cee33a2c04455044b28099f39fe9722347"
   }
  }
 },
 "nbformat": 4,
 "nbformat_minor": 2
}
