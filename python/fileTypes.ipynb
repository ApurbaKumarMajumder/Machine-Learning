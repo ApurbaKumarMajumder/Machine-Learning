{
 "cells": [
  {
   "cell_type": "markdown",
   "metadata": {},
   "source": [
    "File Reads:\n",
    "\n",
    "    1. Text -> .txt\n",
    "    2. CSV -> .csv\n",
    "    3. Excel -> .xlsx\n",
    "    4. Docx -> .docx\n",
    "    5. PDF -> .pdf"
   ]
  },
  {
   "cell_type": "markdown",
   "metadata": {},
   "source": [
    "Text:\n",
    "\n",
    "Method 1: Using read_csv()\n",
    "\n",
    "data = pandas.read_csv('filename.txt', sep = ' ', names = ['Column1', 'Column2'])\n",
    "\n",
    "Parameters:\n",
    "\n",
    "* filename.txt: As the name suggests it is the name of the text file from which we want to read data.\n",
    "* sep: It is a separator field in the text file, we use the space character(' ') as the separator.\n",
    "* header: This is an optional field. By default, it will take the first line of the text file as a header. If we use header = None then it will create the header.\n",
    "* names: We can assign column names while importing the text file by using the names argument. "
   ]
  },
  {
   "cell_type": "code",
   "execution_count": 3,
   "metadata": {},
   "outputs": [
    {
     "name": "stdout",
     "output_type": "stream",
     "text": [
      "    Batman  Bowler\n",
      "0    Rohit  Bumrah\n",
      "1    Virat   Siraj\n",
      "2    Rahul  Ashwin\n",
      "3    Dhoni   Shami\n",
      "4  Shreyas  Jadeja\n"
     ]
    }
   ],
   "source": [
    "# importing pandas\n",
    "import pandas as pd\n",
    "\n",
    "# read text file into pandas DataFrames\n",
    "df = pd.read_csv(\"gfg.txt\", sep = ' ')\n",
    "\n",
    "# display DataFrame\n",
    "print(df)"
   ]
  },
  {
   "cell_type": "code",
   "execution_count": 4,
   "metadata": {},
   "outputs": [
    {
     "name": "stdout",
     "output_type": "stream",
     "text": [
      "         0       1\n",
      "0   Batman  Bowler\n",
      "1    Rohit  Bumrah\n",
      "2    Virat   Siraj\n",
      "3    Rahul  Ashwin\n",
      "4    Dhoni   Shami\n",
      "5  Shreyas  Jadeja\n"
     ]
    }
   ],
   "source": [
    "# Note: if we specify ther header to be none then the actual headers will be considered as new elements.\n",
    "\n",
    "# Read text files with Pandas using read_csv()\n",
    "\n",
    "# importing pandas\n",
    "import pandas as pd\n",
    "\n",
    "# read text file into pandas DataFrames and\n",
    "# Create header\n",
    "df = pd.read_csv(\"gfg.txt\", sep = \" \", header = None)\n",
    "\n",
    "# display DataFrames\n",
    "print(df)"
   ]
  },
  {
   "cell_type": "code",
   "execution_count": 5,
   "metadata": {},
   "outputs": [
    {
     "name": "stdout",
     "output_type": "stream",
     "text": [
      "  Players 1 Players 2\n",
      "0    Batman    Bowler\n",
      "1     Rohit    Bumrah\n",
      "2     Virat     Siraj\n",
      "3     Rahul    Ashwin\n",
      "4     Dhoni     Shami\n",
      "5   Shreyas    Jadeja\n"
     ]
    }
   ],
   "source": [
    "# Read text files with Pandas using read_csv()\n",
    "\n",
    "# importing pandas\n",
    "import pandas as pd\n",
    "\n",
    "# read text file into pandas DataFrames and create\n",
    "# header with names\n",
    "df = pd.read_csv(\"gfg.txt\", sep = \" \", header = None, names = [\"Players 1\", \"Players 2\"])\n",
    "\n",
    "# display DataFrames\n",
    "print(df)"
   ]
  },
  {
   "cell_type": "code",
   "execution_count": 6,
   "metadata": {},
   "outputs": [
    {
     "name": "stdout",
     "output_type": "stream",
     "text": [
      "  Players 1 Players 2  Players 3\n",
      "0    Batman    Bowler        NaN\n",
      "1     Rohit    Bumrah        NaN\n",
      "2     Virat     Siraj        NaN\n",
      "3     Rahul    Ashwin        NaN\n",
      "4     Dhoni     Shami        NaN\n",
      "5   Shreyas    Jadeja        NaN\n"
     ]
    }
   ],
   "source": [
    "# Note: If you try to fill the name section for some non existing data then you will get NaN declaration.\n",
    "\n",
    "# Read text files with Pandas using read_csv()\n",
    "\n",
    "# importing pandas\n",
    "import pandas as pd\n",
    "\n",
    "# read text file into pandas DataFrames and create\n",
    "# header with names\n",
    "df = pd.read_csv(\"gfg.txt\", sep = \" \", header = None, names = [\"Players 1\", \"Players 2\", \"Players 3\"])\n",
    "\n",
    "# display DataFrames\n",
    "print(df)"
   ]
  },
  {
   "cell_type": "markdown",
   "metadata": {},
   "source": [
    "Method 2: Using read_table()\n",
    "\n",
    "data = pandas.read_table(\"filename.txt\", delimiter = \" \")"
   ]
  },
  {
   "cell_type": "code",
   "execution_count": 7,
   "metadata": {},
   "outputs": [
    {
     "name": "stdout",
     "output_type": "stream",
     "text": [
      "    Batman  Bowler\n",
      "0    Rohit  Bumrah\n",
      "1    Virat   Siraj\n",
      "2    Rahul  Ashwin\n",
      "3    Dhoni   Shami\n",
      "4  Shreyas  Jadeja\n"
     ]
    }
   ],
   "source": [
    "# Read text files with Pandas using read_table()\n",
    "\n",
    "# importing pandas\n",
    "import pandas as pd\n",
    "\n",
    "# read text file into pandas DataFrames and create\n",
    "# header with names\n",
    "df = pd.read_table(\"gfg.txt\", delimiter = \" \")\n",
    "\n",
    "# display DataFrames\n",
    "print(df)"
   ]
  },
  {
   "cell_type": "markdown",
   "metadata": {},
   "source": [
    "Method 3: Using read_fwf()\n",
    "\n",
    "* The fwf in the read_fwf() function stands for fixed-width lines.\n",
    "\n",
    "data = pandas.read_fwf(\"filename.txt\")"
   ]
  },
  {
   "cell_type": "code",
   "execution_count": 8,
   "metadata": {},
   "outputs": [
    {
     "name": "stdout",
     "output_type": "stream",
     "text": [
      "    Batman Bowler\n",
      "0    Rohit Bumrah\n",
      "1     Virat Siraj\n",
      "2    Rahul Ashwin\n",
      "3     Dhoni Shami\n",
      "4  Shreyas Jadeja\n"
     ]
    }
   ],
   "source": [
    "# Read text files with Pandas using read_fwf()\n",
    "\n",
    "# importing pandas\n",
    "import pandas as pd\n",
    "\n",
    "# read text file into pandas DataFrames and create\n",
    "# header with names\n",
    "df = pd.read_fwf(\"gfg.txt\")\n",
    "\n",
    "# display DataFrames\n",
    "print(df)"
   ]
  },
  {
   "cell_type": "markdown",
   "metadata": {},
   "source": [
    "CSV\n",
    "\n",
    "Method 1 - Using CSV"
   ]
  },
  {
   "cell_type": "code",
   "execution_count": 1,
   "metadata": {},
   "outputs": [
    {
     "name": "stderr",
     "output_type": "stream",
     "text": [
      "ERROR: Could not find a version that satisfies the requirement csv (from versions: none)\n",
      "ERROR: No matching distribution found for csv\n"
     ]
    }
   ],
   "source": [
    "! pip install csv"
   ]
  },
  {
   "cell_type": "code",
   "execution_count": 2,
   "metadata": {},
   "outputs": [
    {
     "name": "stdout",
     "output_type": "stream",
     "text": [
      "['Batman', ' Bowler']\n",
      "[['Rohit', ' Bumrah'], ['Virat', ' Siraj'], ['Rahul', ' Ashwin'], ['Dhoni', ' Shami'], ['Shreyas', ' Jadeja']]\n"
     ]
    }
   ],
   "source": [
    "import csv\n",
    "file = open(\"gfg.csv\")\n",
    "csvreader = csv.reader(file) ## Creating the file object\n",
    "\n",
    "header = next(csvreader) ## reading first line as header\n",
    "print(header)\n",
    "\n",
    "rows = []\n",
    "for row in csvreader:\n",
    "    rows.append(row) ## Adding each row as content\n",
    "\n",
    "print(rows)\n",
    "file.close()"
   ]
  },
  {
   "cell_type": "markdown",
   "metadata": {},
   "source": [
    "Method 2 - Using Readlines"
   ]
  },
  {
   "cell_type": "code",
   "execution_count": 1,
   "metadata": {},
   "outputs": [
    {
     "name": "stdout",
     "output_type": "stream",
     "text": [
      "['Batman, Bowler\\n']\n",
      "['Rohit, Bumrah\\n', 'Virat, Siraj\\n', 'Rahul, Ashwin\\n', 'Dhoni, Shami\\n', 'Shreyas, Jadeja']\n"
     ]
    }
   ],
   "source": [
    "with open('gfg.csv') as file:\n",
    "    content = file.readlines()\n",
    "\n",
    "header = content[:1]\n",
    "rows = content[1:]\n",
    "print(header)\n",
    "print(rows)"
   ]
  },
  {
   "cell_type": "code",
   "execution_count": 2,
   "metadata": {},
   "outputs": [
    {
     "data": {
      "text/plain": [
       "'Batman, Bowler'"
      ]
     },
     "execution_count": 2,
     "metadata": {},
     "output_type": "execute_result"
    }
   ],
   "source": [
    "header[0].strip()"
   ]
  },
  {
   "cell_type": "code",
   "execution_count": 5,
   "metadata": {},
   "outputs": [],
   "source": [
    "for i in range(len(rows)):\n",
    "    rows[i] = rows[i].strip()"
   ]
  },
  {
   "cell_type": "code",
   "execution_count": 6,
   "metadata": {},
   "outputs": [
    {
     "data": {
      "text/plain": [
       "['Rohit, Bumrah',\n",
       " 'Virat, Siraj',\n",
       " 'Rahul, Ashwin',\n",
       " 'Dhoni, Shami',\n",
       " 'Shreyas, Jadeja']"
      ]
     },
     "execution_count": 6,
     "metadata": {},
     "output_type": "execute_result"
    }
   ],
   "source": [
    "rows"
   ]
  },
  {
   "cell_type": "code",
   "execution_count": 8,
   "metadata": {},
   "outputs": [
    {
     "name": "stdout",
     "output_type": "stream",
     "text": [
      "['Batman, Bowler']\n",
      "['Rohit, Bumrah', 'Virat, Siraj', 'Rahul, Ashwin', 'Dhoni, Shami', 'Shreyas, Jadeja']\n"
     ]
    }
   ],
   "source": [
    "# complete code\n",
    "\n",
    "with open('gfg.csv') as file:\n",
    "    content = file.readlines()\n",
    "\n",
    "# convert the header into a list\n",
    "header = [content[:1][0].strip()]\n",
    "rows = content[1:]\n",
    "\n",
    "for i in range(len(rows)):\n",
    "    rows[i] = rows[i].strip()\n",
    "\n",
    "print(header)\n",
    "print(rows)"
   ]
  },
  {
   "cell_type": "markdown",
   "metadata": {},
   "source": [
    "Method 3 - Using Pandas"
   ]
  },
  {
   "cell_type": "markdown",
   "metadata": {},
   "source": [
    "`data = pandas.read_csv(\"filename.txt\", sep = ' ', header = None, names = [\"Column1\", \"Column2\"])`\n",
    "\n",
    "`Parameters: `\n",
    "\n",
    "* filename.txt: As the name suggests it is the name of the text file from which we want to read data.\n",
    "* sep: It is a separator field. In the text file, we use the space character(',') as the separator.\n",
    "* header: This is an optional field. By default, it will take the first line of the text file as a header. If we use header = None then it will create the header.\n",
    "* names: We can assign column names while importing the text file by using the names arguments."
   ]
  },
  {
   "cell_type": "code",
   "execution_count": 11,
   "metadata": {},
   "outputs": [
    {
     "data": {
      "text/html": [
       "<div>\n",
       "<style scoped>\n",
       "    .dataframe tbody tr th:only-of-type {\n",
       "        vertical-align: middle;\n",
       "    }\n",
       "\n",
       "    .dataframe tbody tr th {\n",
       "        vertical-align: top;\n",
       "    }\n",
       "\n",
       "    .dataframe thead th {\n",
       "        text-align: right;\n",
       "    }\n",
       "</style>\n",
       "<table border=\"1\" class=\"dataframe\">\n",
       "  <thead>\n",
       "    <tr style=\"text-align: right;\">\n",
       "      <th></th>\n",
       "      <th>Batman</th>\n",
       "      <th>Bowler</th>\n",
       "    </tr>\n",
       "  </thead>\n",
       "  <tbody>\n",
       "    <tr>\n",
       "      <th>0</th>\n",
       "      <td>Rohit</td>\n",
       "      <td>Bumrah</td>\n",
       "    </tr>\n",
       "    <tr>\n",
       "      <th>1</th>\n",
       "      <td>Virat</td>\n",
       "      <td>Siraj</td>\n",
       "    </tr>\n",
       "    <tr>\n",
       "      <th>2</th>\n",
       "      <td>Rahul</td>\n",
       "      <td>Ashwin</td>\n",
       "    </tr>\n",
       "    <tr>\n",
       "      <th>3</th>\n",
       "      <td>Dhoni</td>\n",
       "      <td>Shami</td>\n",
       "    </tr>\n",
       "    <tr>\n",
       "      <th>4</th>\n",
       "      <td>Shreyas</td>\n",
       "      <td>Jadeja</td>\n",
       "    </tr>\n",
       "  </tbody>\n",
       "</table>\n",
       "</div>"
      ],
      "text/plain": [
       "    Batman   Bowler\n",
       "0    Rohit   Bumrah\n",
       "1    Virat    Siraj\n",
       "2    Rahul   Ashwin\n",
       "3    Dhoni    Shami\n",
       "4  Shreyas   Jadeja"
      ]
     },
     "execution_count": 11,
     "metadata": {},
     "output_type": "execute_result"
    }
   ],
   "source": [
    "import pandas as pd\n",
    "\n",
    "data = pd.read_csv(\"gfg.csv\", sep = \",\")\n",
    "data"
   ]
  },
  {
   "cell_type": "markdown",
   "metadata": {},
   "source": [
    "Excel"
   ]
  },
  {
   "cell_type": "markdown",
   "metadata": {},
   "source": [
    "Method 1 - Using Xlrd & openpyxl\n",
    "\n",
    "* Own complexities"
   ]
  },
  {
   "cell_type": "code",
   "execution_count": null,
   "metadata": {},
   "outputs": [],
   "source": [
    "! pip install openpyxl"
   ]
  },
  {
   "cell_type": "code",
   "execution_count": 1,
   "metadata": {},
   "outputs": [
    {
     "ename": "SyntaxError",
     "evalue": "invalid syntax (2681699907.py, line 8)",
     "output_type": "error",
     "traceback": [
      "\u001b[1;36m  Input \u001b[1;32mIn [1]\u001b[1;36m\u001b[0m\n\u001b[1;33m    worksheet = wookbook.\u001b[0m\n\u001b[1;37m                         ^\u001b[0m\n\u001b[1;31mSyntaxError\u001b[0m\u001b[1;31m:\u001b[0m invalid syntax\n"
     ]
    }
   ],
   "source": [
    "# Import openyxl module\n",
    "import openpyxl\n",
    "\n",
    "# Define variable to load the workbook\n",
    "workbook = openpyxl.load_workbook(\"gfg.xlsx\")\n",
    "\n",
    "# Define variable to read the active sheet:\n",
    "worksheet = workbook.worksheets\n",
    "\n",
    "# Iterate the loop to read the cell values\n",
    "for i in range(0, worksheet.max_row):\n",
    "    for col in worksheet.iter_cols(1, worksheet.max_column):\n",
    "        print(col[i].value, end = \"\\t\\t\")\n",
    "    print('')"
   ]
  },
  {
   "cell_type": "markdown",
   "metadata": {},
   "source": [
    "Method 2: Using Pandas"
   ]
  },
  {
   "cell_type": "code",
   "execution_count": 2,
   "metadata": {},
   "outputs": [
    {
     "name": "stdout",
     "output_type": "stream",
     "text": [
      "The content of the file is : \n",
      "    Batsman  Bowler\n",
      "0    Rohit  Bumrah\n",
      "1    Virat   Siraj\n",
      "2    Rahul  Ashwin\n",
      "3    Dhoni   Shami\n",
      "4  Shreyas  Jadeja\n"
     ]
    }
   ],
   "source": [
    "# Import pandas\n",
    "import pandas as pd\n",
    "\n",
    "# Load the xlsx file\n",
    "excel_data = pd.read_excel(\"gfg.xlsx\", sheet_name = \"Name\") ## can either give sheet name or number\n",
    "\n",
    "# Read the values of the file in the dataframe\n",
    "data = pd.DataFrame(excel_data)\n",
    "\n",
    "# Print the content\n",
    "print(\"The content of the file is : \\n\", data)"
   ]
  },
  {
   "cell_type": "code",
   "execution_count": 3,
   "metadata": {},
   "outputs": [
    {
     "data": {
      "text/html": [
       "<div>\n",
       "<style scoped>\n",
       "    .dataframe tbody tr th:only-of-type {\n",
       "        vertical-align: middle;\n",
       "    }\n",
       "\n",
       "    .dataframe tbody tr th {\n",
       "        vertical-align: top;\n",
       "    }\n",
       "\n",
       "    .dataframe thead th {\n",
       "        text-align: right;\n",
       "    }\n",
       "</style>\n",
       "<table border=\"1\" class=\"dataframe\">\n",
       "  <thead>\n",
       "    <tr style=\"text-align: right;\">\n",
       "      <th></th>\n",
       "      <th>Player</th>\n",
       "      <th>Age</th>\n",
       "    </tr>\n",
       "  </thead>\n",
       "  <tbody>\n",
       "    <tr>\n",
       "      <th>0</th>\n",
       "      <td>Rohit</td>\n",
       "      <td>32</td>\n",
       "    </tr>\n",
       "    <tr>\n",
       "      <th>1</th>\n",
       "      <td>Virat</td>\n",
       "      <td>33</td>\n",
       "    </tr>\n",
       "    <tr>\n",
       "      <th>2</th>\n",
       "      <td>Rahul</td>\n",
       "      <td>28</td>\n",
       "    </tr>\n",
       "    <tr>\n",
       "      <th>3</th>\n",
       "      <td>Dhoni</td>\n",
       "      <td>37</td>\n",
       "    </tr>\n",
       "    <tr>\n",
       "      <th>4</th>\n",
       "      <td>Shreyas</td>\n",
       "      <td>28</td>\n",
       "    </tr>\n",
       "    <tr>\n",
       "      <th>5</th>\n",
       "      <td>Bumrah</td>\n",
       "      <td>28</td>\n",
       "    </tr>\n",
       "    <tr>\n",
       "      <th>6</th>\n",
       "      <td>Siraj</td>\n",
       "      <td>27</td>\n",
       "    </tr>\n",
       "    <tr>\n",
       "      <th>7</th>\n",
       "      <td>Ashwin</td>\n",
       "      <td>32</td>\n",
       "    </tr>\n",
       "    <tr>\n",
       "      <th>8</th>\n",
       "      <td>Shami</td>\n",
       "      <td>33</td>\n",
       "    </tr>\n",
       "    <tr>\n",
       "      <th>9</th>\n",
       "      <td>Jadeja</td>\n",
       "      <td>32</td>\n",
       "    </tr>\n",
       "  </tbody>\n",
       "</table>\n",
       "</div>"
      ],
      "text/plain": [
       "    Player  Age\n",
       "0    Rohit   32\n",
       "1    Virat   33\n",
       "2    Rahul   28\n",
       "3    Dhoni   37\n",
       "4  Shreyas   28\n",
       "5   Bumrah   28\n",
       "6    Siraj   27\n",
       "7   Ashwin   32\n",
       "8    Shami   33\n",
       "9   Jadeja   32"
      ]
     },
     "execution_count": 3,
     "metadata": {},
     "output_type": "execute_result"
    }
   ],
   "source": [
    "# Import pandas\n",
    "import pandas as pd\n",
    "\n",
    "# Load the xlsx file\n",
    "excel_data = pd.read_excel(\"gfg.xlsx\", sheet_name = \"Age\") ## can either give sheet name or number\n",
    "\n",
    "# Read the values of the file in the dataframe\n",
    "data = pd.DataFrame(excel_data)\n",
    "\n",
    "# Print the content\n",
    "# print(\"The content of the file is : \\n\", data)\n",
    "data"
   ]
  },
  {
   "cell_type": "markdown",
   "metadata": {},
   "source": [
    "Docx"
   ]
  },
  {
   "cell_type": "code",
   "execution_count": null,
   "metadata": {},
   "outputs": [],
   "source": [
    "! pip install python-docx"
   ]
  },
  {
   "cell_type": "code",
   "execution_count": 5,
   "metadata": {},
   "outputs": [
    {
     "name": "stdout",
     "output_type": "stream",
     "text": [
      "                                                                             Sample File\n",
      "\n",
      "This is a sample file.\n",
      "This is getting used for a sample purpose.\n",
      "\n",
      "\n"
     ]
    }
   ],
   "source": [
    "from docx import Document\n",
    "\n",
    "document = Document('gfg.docx')\n",
    "for para in document.paragraphs:\n",
    "    print(para.text)"
   ]
  },
  {
   "cell_type": "code",
   "execution_count": 6,
   "metadata": {},
   "outputs": [
    {
     "name": "stdout",
     "output_type": "stream",
     "text": [
      "Table  0\n",
      "A\tB\tC\t\n",
      "11\t22\t33\t\n",
      "111\t222\t333\t\n",
      "\n"
     ]
    }
   ],
   "source": [
    "#### Accessing table contents\n",
    "\n",
    "for index, table in enumerate(document.tables):\n",
    "    print(\"Table \", index)\n",
    "    for row in range(len(table.rows)):\n",
    "        for col in range(len(table.columns)):\n",
    "            print(table.cell(row, col).text, end = '\\t')\n",
    "        print()\n",
    "    print()"
   ]
  }
 ],
 "metadata": {
  "kernelspec": {
   "display_name": "Python 3.9.12 ('base')",
   "language": "python",
   "name": "python3"
  },
  "language_info": {
   "codemirror_mode": {
    "name": "ipython",
    "version": 3
   },
   "file_extension": ".py",
   "mimetype": "text/x-python",
   "name": "python",
   "nbconvert_exporter": "python",
   "pygments_lexer": "ipython3",
   "version": "3.9.12"
  },
  "orig_nbformat": 4,
  "vscode": {
   "interpreter": {
    "hash": "610a6f344c2137faf927ea819c63f6cee33a2c04455044b28099f39fe9722347"
   }
  }
 },
 "nbformat": 4,
 "nbformat_minor": 2
}
