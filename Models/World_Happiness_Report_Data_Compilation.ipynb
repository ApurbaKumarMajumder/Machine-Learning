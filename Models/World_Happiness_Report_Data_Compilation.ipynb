{
 "cells": [
  {
   "cell_type": "code",
   "execution_count": 2,
   "metadata": {},
   "outputs": [
    {
     "name": "stdout",
     "output_type": "stream",
     "text": [
      "['2015.csv', '2016.csv', '2017.csv', '2018.csv', '2019.csv', 'World_Happiness_Report_Data_Compilation.ipynb']\n"
     ]
    }
   ],
   "source": [
    "# This Phython 3 environment comes with many helpful analytics libraries installed\n",
    "# For Example, here's several helpful packages to load in\n",
    "\n",
    "import numpy as np # linear algebra\n",
    "import pandas as pd # data processing, CSV file I/O (e.g. pd.read_csv)\n",
    "import seaborn as sns # for data visualization\n",
    "import matplotlib.pyplot as plt # for data visualization\n",
    "\n",
    "import warnings\n",
    "warnings.filterwarnings(\"ignore\") # ignore all the warnings and the code will still run smoothly as warning are less severe and the code won't stop executing\n",
    "\n",
    "from pandas.plotting import parallel_coordinates\n",
    "\n",
    "# Input data files are available in the directory itself and for colab user \"/content/file_name\"\n",
    "\n",
    "import os\n",
    "print(os.listdir(\"D:\\Machine-Learning\\Models\"))"
   ]
  },
  {
   "cell_type": "code",
   "execution_count": 3,
   "metadata": {},
   "outputs": [],
   "source": [
    "# Load data from the csv files\n",
    "data_2015 = pd.read_csv(\"2015.csv\")\n",
    "data_2016 = pd.read_csv(\"2016.csv\")\n",
    "data_2017 = pd.read_csv(\"2017.csv\")\n",
    "\n",
    "# Column name change\n",
    "data_2015.columns = [each.split()[0] if (len(each.split()) > 2) else each.replace(\" \", \"_\") for each in data_2015.columns]\n",
    "data_2016.columns = [each.split()[0] if (len(each.split()) > 2) else each.replace(\" \", \"_\") for each in data_2016.columns]\n",
    "data_2017.columns = [each.replace(\".\", \" \") for each in data_2017.columns]\n",
    "data_2017.columns = [each.split()[0] if (len(each.split()) > 2) else each.replace(\" \", \"_\") for each in data_2017.columns]"
   ]
  },
  {
   "cell_type": "code",
   "execution_count": 4,
   "metadata": {},
   "outputs": [
    {
     "data": {
      "text/html": [
       "<div>\n",
       "<style scoped>\n",
       "    .dataframe tbody tr th:only-of-type {\n",
       "        vertical-align: middle;\n",
       "    }\n",
       "\n",
       "    .dataframe tbody tr th {\n",
       "        vertical-align: top;\n",
       "    }\n",
       "\n",
       "    .dataframe thead th {\n",
       "        text-align: right;\n",
       "    }\n",
       "</style>\n",
       "<table border=\"1\" class=\"dataframe\">\n",
       "  <thead>\n",
       "    <tr style=\"text-align: right;\">\n",
       "      <th></th>\n",
       "      <th>Country</th>\n",
       "      <th>Region</th>\n",
       "      <th>Happiness_Rank</th>\n",
       "      <th>Happiness_Score</th>\n",
       "      <th>Standard_Error</th>\n",
       "      <th>Economy</th>\n",
       "      <th>Family</th>\n",
       "      <th>Health</th>\n",
       "      <th>Freedom</th>\n",
       "      <th>Trust</th>\n",
       "      <th>Generosity</th>\n",
       "      <th>Dystopia_Residual</th>\n",
       "    </tr>\n",
       "  </thead>\n",
       "  <tbody>\n",
       "    <tr>\n",
       "      <th>0</th>\n",
       "      <td>Switzerland</td>\n",
       "      <td>Western Europe</td>\n",
       "      <td>1</td>\n",
       "      <td>7.587</td>\n",
       "      <td>0.03411</td>\n",
       "      <td>1.39651</td>\n",
       "      <td>1.34951</td>\n",
       "      <td>0.94143</td>\n",
       "      <td>0.66557</td>\n",
       "      <td>0.41978</td>\n",
       "      <td>0.29678</td>\n",
       "      <td>2.51738</td>\n",
       "    </tr>\n",
       "    <tr>\n",
       "      <th>1</th>\n",
       "      <td>Iceland</td>\n",
       "      <td>Western Europe</td>\n",
       "      <td>2</td>\n",
       "      <td>7.561</td>\n",
       "      <td>0.04884</td>\n",
       "      <td>1.30232</td>\n",
       "      <td>1.40223</td>\n",
       "      <td>0.94784</td>\n",
       "      <td>0.62877</td>\n",
       "      <td>0.14145</td>\n",
       "      <td>0.43630</td>\n",
       "      <td>2.70201</td>\n",
       "    </tr>\n",
       "    <tr>\n",
       "      <th>2</th>\n",
       "      <td>Denmark</td>\n",
       "      <td>Western Europe</td>\n",
       "      <td>3</td>\n",
       "      <td>7.527</td>\n",
       "      <td>0.03328</td>\n",
       "      <td>1.32548</td>\n",
       "      <td>1.36058</td>\n",
       "      <td>0.87464</td>\n",
       "      <td>0.64938</td>\n",
       "      <td>0.48357</td>\n",
       "      <td>0.34139</td>\n",
       "      <td>2.49204</td>\n",
       "    </tr>\n",
       "    <tr>\n",
       "      <th>3</th>\n",
       "      <td>Norway</td>\n",
       "      <td>Western Europe</td>\n",
       "      <td>4</td>\n",
       "      <td>7.522</td>\n",
       "      <td>0.03880</td>\n",
       "      <td>1.45900</td>\n",
       "      <td>1.33095</td>\n",
       "      <td>0.88521</td>\n",
       "      <td>0.66973</td>\n",
       "      <td>0.36503</td>\n",
       "      <td>0.34699</td>\n",
       "      <td>2.46531</td>\n",
       "    </tr>\n",
       "    <tr>\n",
       "      <th>4</th>\n",
       "      <td>Canada</td>\n",
       "      <td>North America</td>\n",
       "      <td>5</td>\n",
       "      <td>7.427</td>\n",
       "      <td>0.03553</td>\n",
       "      <td>1.32629</td>\n",
       "      <td>1.32261</td>\n",
       "      <td>0.90563</td>\n",
       "      <td>0.63297</td>\n",
       "      <td>0.32957</td>\n",
       "      <td>0.45811</td>\n",
       "      <td>2.45176</td>\n",
       "    </tr>\n",
       "  </tbody>\n",
       "</table>\n",
       "</div>"
      ],
      "text/plain": [
       "       Country          Region  Happiness_Rank  Happiness_Score  \\\n",
       "0  Switzerland  Western Europe               1            7.587   \n",
       "1      Iceland  Western Europe               2            7.561   \n",
       "2      Denmark  Western Europe               3            7.527   \n",
       "3       Norway  Western Europe               4            7.522   \n",
       "4       Canada   North America               5            7.427   \n",
       "\n",
       "   Standard_Error  Economy   Family   Health  Freedom    Trust  Generosity  \\\n",
       "0         0.03411  1.39651  1.34951  0.94143  0.66557  0.41978     0.29678   \n",
       "1         0.04884  1.30232  1.40223  0.94784  0.62877  0.14145     0.43630   \n",
       "2         0.03328  1.32548  1.36058  0.87464  0.64938  0.48357     0.34139   \n",
       "3         0.03880  1.45900  1.33095  0.88521  0.66973  0.36503     0.34699   \n",
       "4         0.03553  1.32629  1.32261  0.90563  0.63297  0.32957     0.45811   \n",
       "\n",
       "   Dystopia_Residual  \n",
       "0            2.51738  \n",
       "1            2.70201  \n",
       "2            2.49204  \n",
       "3            2.46531  \n",
       "4            2.45176  "
      ]
     },
     "execution_count": 4,
     "metadata": {},
     "output_type": "execute_result"
    }
   ],
   "source": [
    "data_2015.head()"
   ]
  },
  {
   "cell_type": "code",
   "execution_count": 5,
   "metadata": {},
   "outputs": [
    {
     "name": "stdout",
     "output_type": "stream",
     "text": [
      "<class 'pandas.core.frame.DataFrame'>\n",
      "RangeIndex: 158 entries, 0 to 157\n",
      "Data columns (total 12 columns):\n",
      " #   Column             Non-Null Count  Dtype  \n",
      "---  ------             --------------  -----  \n",
      " 0   Country            158 non-null    object \n",
      " 1   Region             158 non-null    object \n",
      " 2   Happiness_Rank     158 non-null    int64  \n",
      " 3   Happiness_Score    158 non-null    float64\n",
      " 4   Standard_Error     158 non-null    float64\n",
      " 5   Economy            158 non-null    float64\n",
      " 6   Family             158 non-null    float64\n",
      " 7   Health             158 non-null    float64\n",
      " 8   Freedom            158 non-null    float64\n",
      " 9   Trust              158 non-null    float64\n",
      " 10  Generosity         158 non-null    float64\n",
      " 11  Dystopia_Residual  158 non-null    float64\n",
      "dtypes: float64(9), int64(1), object(2)\n",
      "memory usage: 14.9+ KB\n"
     ]
    }
   ],
   "source": [
    "# getting overview of our data\n",
    "data_2015.info()"
   ]
  },
  {
   "cell_type": "code",
   "execution_count": 6,
   "metadata": {},
   "outputs": [
    {
     "name": "stdout",
     "output_type": "stream",
     "text": [
      "Are there any missing data? : False\n",
      "Country              0\n",
      "Region               0\n",
      "Happiness_Rank       0\n",
      "Happiness_Score      0\n",
      "Standard_Error       0\n",
      "Economy              0\n",
      "Family               0\n",
      "Health               0\n",
      "Freedom              0\n",
      "Trust                0\n",
      "Generosity           0\n",
      "Dystopia_Residual    0\n",
      "dtype: int64\n"
     ]
    }
   ],
   "source": [
    "print(\"Are there any missing data? :\", data_2015.isnull().any().any())\n",
    "print(data_2015.isnull().sum())"
   ]
  },
  {
   "cell_type": "code",
   "execution_count": 7,
   "metadata": {},
   "outputs": [
    {
     "data": {
      "text/plain": [
       "5.192    2\n",
       "7.587    1\n",
       "4.686    1\n",
       "4.839    1\n",
       "4.800    1\n",
       "        ..\n",
       "5.855    1\n",
       "5.848    1\n",
       "5.833    1\n",
       "5.828    1\n",
       "2.839    1\n",
       "Name: Happiness_Score, Length: 157, dtype: int64"
      ]
     },
     "execution_count": 7,
     "metadata": {},
     "output_type": "execute_result"
    }
   ],
   "source": [
    "data_2015[\"Happiness_Score\"].value_counts()"
   ]
  },
  {
   "cell_type": "code",
   "execution_count": 10,
   "metadata": {},
   "outputs": [
    {
     "name": "stdout",
     "output_type": "stream",
     "text": [
      "\n",
      "\n",
      "Region in Dataset: \n",
      "\n",
      "There are 10 differnet values \n",
      "\n",
      "['Western Europe' 'North America' 'Australia and New Zealand'\n",
      " 'Middle East and Northern Africa' 'Latin America and Caribbean'\n",
      " 'Southeastern Asia' 'Central and Eastern Europe' 'Eastern Asia'\n",
      " 'Sub-Saharan Africa' 'Southern Asia']\n"
     ]
    }
   ],
   "source": [
    "# we found out how many hospitals in country in our data\n",
    "print(\"\\n\\nRegion in Dataset: \\n\")\n",
    "print(\"There are {} differnet values \\n\". format(len(data_2015.Region.unique())))\n",
    "print(data_2015.Region.unique())"
   ]
  }
 ],
 "metadata": {
  "kernelspec": {
   "display_name": "Python 3.9.12 ('base')",
   "language": "python",
   "name": "python3"
  },
  "language_info": {
   "codemirror_mode": {
    "name": "ipython",
    "version": 3
   },
   "file_extension": ".py",
   "mimetype": "text/x-python",
   "name": "python",
   "nbconvert_exporter": "python",
   "pygments_lexer": "ipython3",
   "version": "3.9.12"
  },
  "orig_nbformat": 4,
  "vscode": {
   "interpreter": {
    "hash": "610a6f344c2137faf927ea819c63f6cee33a2c04455044b28099f39fe9722347"
   }
  }
 },
 "nbformat": 4,
 "nbformat_minor": 2
}
