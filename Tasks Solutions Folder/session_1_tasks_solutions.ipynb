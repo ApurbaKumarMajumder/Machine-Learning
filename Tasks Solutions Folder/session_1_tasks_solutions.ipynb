{
  "cells": [
    {
      "cell_type": "markdown",
      "metadata": {
        "id": "A05OG15VqOPF"
      },
      "source": [
        "# Task : Session 1\n",
        "Solve these questions own your own and try to test yourself what you have learned in the session.\n",
        "\n",
        "Happy Learning!"
      ]
    },
    {
      "cell_type": "markdown",
      "metadata": {
        "id": "2doIXf8bqe9_"
      },
      "source": [
        "### Q1 :- Print the given strings as per stated format.\n",
        "\n",
        "**Given strings**: \n",
        "```\n",
        "\"Data\" \"Science\" \"Mentorship\" \"Program\" \n",
        "\"By\" \"CampusX\"\n",
        "```\n",
        "**Output**: \n",
        "``` \n",
        "Data-Science-Mentorship-Program-started-By-CampusX\n",
        "```\n",
        "\n",
        "Concept- [Seperator and End]"
      ]
    },
    {
      "cell_type": "code",
      "execution_count": 3,
      "metadata": {
        "colab": {
          "base_uri": "https://localhost:8080/"
        },
        "id": "-em6d3KErDtp",
        "outputId": "c8c29dd7-e8f5-4d7e-faeb-d54b4b6919fa"
      },
      "outputs": [
        {
          "name": "stdout",
          "output_type": "stream",
          "text": [
            "Data-Science-Mentorship-Program-started-By-CampusX\n"
          ]
        }
      ],
      "source": [
        "# Write your code here\n",
        "print(\"Data\", \"Science\", \"Mentorship\", \"Program\", sep = '-', end = '-started-')\n",
        "print(\"By\", \"CampusX\", sep = '-')"
      ]
    },
    {
      "cell_type": "markdown",
      "metadata": {
        "id": "1KUpN7ZTrC3_"
      },
      "source": [
        "### Q2:- Write a program that will convert celsius value to fahrenheit."
      ]
    },
    {
      "cell_type": "code",
      "execution_count": 8,
      "metadata": {
        "colab": {
          "base_uri": "https://localhost:8080/"
        },
        "id": "yxKYhYQiqWfj",
        "outputId": "90e5c000-d84e-4b75-ea65-20e660e09d4f"
      },
      "outputs": [
        {
          "name": "stdout",
          "output_type": "stream",
          "text": [
            "What's your temperature 37\n",
            "99 F\n"
          ]
        }
      ],
      "source": [
        "# Write your code here\n",
        "C = float(input(\"What's your temperature \"))\n",
        "\n",
        "F = C * (9/5) + 32\n",
        "print(round(F), \"F\")"
      ]
    },
    {
      "cell_type": "markdown",
      "metadata": {
        "id": "RLrOBBJurLB2"
      },
      "source": [
        "### Q3:- Take 2 numbers as input from the user.Write a program to swap the numbers without using any special python syntax."
      ]
    },
    {
      "cell_type": "code",
      "execution_count": 11,
      "metadata": {
        "colab": {
          "base_uri": "https://localhost:8080/"
        },
        "id": "yPn7if0TrJ4F",
        "outputId": "ac432f75-e881-4728-c286-e729aacfa94a"
      },
      "outputs": [
        {
          "name": "stdout",
          "output_type": "stream",
          "text": [
            "12\n",
            "24\n",
            "Original Numbers as inputs: \n",
            "12 24\n",
            "After the altration: \n",
            "24 12\n"
          ]
        }
      ],
      "source": [
        "# Write your code here\n",
        "n1 = int(input())\n",
        "n2 = int(input())\n",
        "print(\"Original Numbers as inputs: \")\n",
        "print(n1, n2)\n",
        "\n",
        "temp = n1\n",
        "n1 = n2\n",
        "n2 = temp\n",
        "\n",
        "print(\"After the altration: \")\n",
        "print(n1, n2)"
      ]
    },
    {
      "cell_type": "markdown",
      "metadata": {
        "id": "waLCP1bjr7ML"
      },
      "source": [
        "### Q4:- Write a program to find the euclidean distance between two coordinates.Take both the coordinates from the user as input."
      ]
    },
    {
      "cell_type": "code",
      "execution_count": 20,
      "metadata": {
        "colab": {
          "base_uri": "https://localhost:8080/"
        },
        "id": "Pl1Sv-xnrxnH",
        "outputId": "183f3a09-fdee-4b4f-ee06-294737be494f"
      },
      "outputs": [
        {
          "name": "stdout",
          "output_type": "stream",
          "text": [
            "Please provide coordinates for Point 1: \n",
            "0 0\n",
            "Please provide coordinates for Point 2: \n",
            "0 0\n",
            "0.0\n"
          ]
        }
      ],
      "source": [
        "# Write your code here\n",
        "print(\"Please provide coordinates for Point 1: \")\n",
        "x1, y1 = input().split(\" \")\n",
        "\n",
        "print(\"Please provide coordinates for Point 2: \")\n",
        "x2, y2 = input().split(\" \")\n",
        "\n",
        "distance = ((int(x2) - int(x1))**2 + (int(y2) - int(y1))**2)**0.5\n",
        "print(distance)"
      ]
    },
    {
      "cell_type": "markdown",
      "metadata": {
        "id": "VLrhg-FRsHjR"
      },
      "source": [
        "### Q5:- Write a program to find the simple interest when the value of principle,rate of interest and time period is provided by the user.\n"
      ]
    },
    {
      "cell_type": "code",
      "execution_count": null,
      "metadata": {
        "id": "s40DlReZsTmY"
      },
      "outputs": [],
      "source": [
        "# Write your code here\n",
        "p = int(input('Enter amount'))\n",
        "t = int(input('Enter time period'))\n",
        "r = float(input('Enter rate'))\n",
        "\n",
        "interest = (p*t*r)/100\n",
        "\n",
        "print('the interest is',interest)"
      ]
    },
    {
      "cell_type": "markdown",
      "metadata": {
        "id": "LMy0BTUktYKa"
      },
      "source": [
        "### Q6:- Write a program that will tell the number of dogs and chicken are there when the user will provide the value of total heads and legs.\n",
        "\n",
        "For example:\n",
        "Input:\n",
        "heads -> 4\n",
        "legs -> 12\n",
        "<br>\n",
        "Output:\n",
        "dogs -> 2\n",
        "chicken -> 2\n",
        "\n",
        "\n",
        "\n"
      ]
    },
    {
      "cell_type": "code",
      "execution_count": null,
      "metadata": {
        "id": "XSBvJoA4tXaG"
      },
      "outputs": [],
      "source": [
        "# Write your code here"
      ]
    },
    {
      "cell_type": "markdown",
      "metadata": {
        "id": "gJ7C5kZYt4BP"
      },
      "source": [
        "### Q7:- Write a program to find the sum of squares of first n natural numbers where n will be provided by the user.\n",
        "\n",
        "Hint - Thus, the sum of the squares of first n natural numbers =  n(n+1)(2n+1)/6"
      ]
    },
    {
      "cell_type": "code",
      "execution_count": 21,
      "metadata": {
        "colab": {
          "base_uri": "https://localhost:8080/"
        },
        "id": "_tHsmEHzt2nX",
        "outputId": "f0b67288-5fe9-4fcb-d1f3-ff8414703573"
      },
      "outputs": [
        {
          "name": "stdout",
          "output_type": "stream",
          "text": [
            "enter the number10\n",
            "385.0\n"
          ]
        }
      ],
      "source": [
        "# Write your code here\n",
        "# Write your code here\n",
        "n = int(input('enter the number'))\n",
        "\n",
        "result = (n*(n+1)*(2*n + 1))/6\n",
        "print(result)"
      ]
    },
    {
      "cell_type": "markdown",
      "metadata": {
        "id": "FHrMM7g-yG1h"
      },
      "source": [
        "### Q8:- Given the first 2 terms of an Arithmetic Series.Find the Nth term of the series. Assume all inputs are provided by the user.\n",
        "\n",
        "Hint - an = a + (n – 1)d"
      ]
    },
    {
      "cell_type": "code",
      "execution_count": 23,
      "metadata": {
        "colab": {
          "base_uri": "https://localhost:8080/"
        },
        "id": "go4_kmZmyVSx",
        "outputId": "c70a4cd8-c687-4e10-85c3-0ddf8bab650e"
      },
      "outputs": [
        {
          "name": "stdout",
          "output_type": "stream",
          "text": [
            "enter 1st term 1\n",
            "enter 2nd term 2\n",
            "enter the value of n 10\n",
            "10\n"
          ]
        }
      ],
      "source": [
        "# Write your code here\n",
        "# Write your code here\n",
        "first_term = int(input('enter 1st term '))\n",
        "second_term = int(input('enter 2nd term '))\n",
        "n = int(input('enter the value of n '))\n",
        "\n",
        "d = second_term - first_term\n",
        "\n",
        "an = first_term + (n-1)*d\n",
        "\n",
        "print(an)"
      ]
    },
    {
      "cell_type": "markdown",
      "metadata": {
        "id": "QgyRX_es1oum"
      },
      "source": [
        "### Q9:- Given 2 fractions, find the sum of those 2 fractions.Take the numerator and denominator values of the fractions from the user."
      ]
    },
    {
      "cell_type": "code",
      "execution_count": 25,
      "metadata": {
        "colab": {
          "base_uri": "https://localhost:8080/"
        },
        "id": "X05xqFS1yW16",
        "outputId": "84cee07c-7eb8-4e4a-8b93-cef9c2f4b5cf"
      },
      "outputs": [
        {
          "name": "stdout",
          "output_type": "stream",
          "text": [
            "num1 10\n",
            "den1 20\n",
            "num2 10\n",
            "den2 20\n",
            "400/400\n",
            "1.0\n"
          ]
        }
      ],
      "source": [
        "# Write your code here\n",
        "# Write your code here\n",
        "n1 = int(input('num1 '))\n",
        "d1 = int(input('den1 '))\n",
        "n2 = int(input('num2 '))\n",
        "d2 = int(input('den2 '))\n",
        "\n",
        "rn = n1*d2 + n2*d1\n",
        "rd = d1*d2\n",
        "result = rn/rd\n",
        "\n",
        "print('{}/{}'.format(rn,rd))\n",
        "print(result)"
      ]
    },
    {
      "cell_type": "markdown",
      "metadata": {
        "id": "eaql38ln13u7"
      },
      "source": [
        "### Q10:- Given the height, width and breadth of a milk tank, you have to find out how many glasses of milk can be obtained? Assume all the inputs are provided by the user.\n",
        "\n",
        "\n",
        "\n",
        "Input:<br>\n",
        "Dimensions of the milk tank<br>\n",
        "H = 20cm, L = 20cm, B = 20cm\n",
        "<br><br>\n",
        "Dimensions of the glass<br>\n",
        "h = 3cm, r = 1cm"
      ]
    },
    {
      "cell_type": "code",
      "execution_count": 30,
      "metadata": {
        "colab": {
          "base_uri": "https://localhost:8080/"
        },
        "id": "FePZqno74eWv",
        "outputId": "22ad5023-4cd9-449b-bf24-a7d4c43f85bf"
      },
      "outputs": [
        {
          "name": "stdout",
          "output_type": "stream",
          "text": [
            "height 10\n",
            "breadth 19\n",
            "length 10\n",
            "height of glass 5\n",
            "radius of the glass 2\n",
            "1900.0\n",
            "62.800000000000004\n",
            "No of glasses would be  30\n"
          ]
        }
      ],
      "source": [
        "# Write your code here\n",
        "h_t = float(input('height '))\n",
        "b_t = float(input('breadth '))\n",
        "l_t = float(input('length '))\n",
        "\n",
        "h_g = float(input('height of glass '))\n",
        "r_g = float(input('radius of the glass '))\n",
        "\n",
        "vol_tank = h_t*b_t*l_t\n",
        "# print(vol_tank)\n",
        "vol_glass = 3.14*r_g*r_g*h_g\n",
        "# print(vol_glass)\n",
        "\n",
        "print(\"No of glasses would be \", int(vol_tank/vol_glass))"
      ]
    }
  ],
  "metadata": {
    "colab": {
      "provenance": []
    },
    "kernelspec": {
      "display_name": "Python 3.9.13 ('base')",
      "language": "python",
      "name": "python3"
    },
    "language_info": {
      "name": "python",
      "version": "3.9.13"
    },
    "vscode": {
      "interpreter": {
        "hash": "552fbe716801c828bf2337c00c8e68d3f7e2873a52bf4814b48dcd20016ed334"
      }
    }
  },
  "nbformat": 4,
  "nbformat_minor": 0
}
